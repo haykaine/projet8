{
 "cells": [
  {
   "cell_type": "code",
   "id": "8b8f0ba879b1c4c5",
   "metadata": {
    "ExecuteTime": {
     "end_time": "2025-07-03T09:16:30.079367Z",
     "start_time": "2025-07-03T09:16:21.776958Z"
    }
   },
   "source": [
    "import torch\n",
    "from datasets import load_dataset\n",
    "from transformers import AutoTokenizer, AutoModelForSequenceClassification, TrainingArguments, Trainer\n",
    "import numpy as np\n",
    "import evaluate\n",
    "\n",
    "print(\"1. Chargement du jeu de données IMDB...\")\n",
    "dataset = load_dataset(\"imdb\")\n",
    "\n",
    "print(f\"Dataset chargé. Structure : {dataset}\")\n",
    "print(f\"Exemple de données d'entraînement : {dataset['train'][0]}\")\n",
    "\n",
    "# utilisation d'un sous ensemble de données vu que c'est juste un POC\n",
    "train_size = 5000\n",
    "test_size = 1000\n",
    "dataset[\"train\"] = dataset[\"train\"].shuffle(seed=42).select(range(train_size))\n",
    "dataset[\"test\"] = dataset[\"test\"].shuffle(seed=42).select(range(test_size))\n",
    "print(f\"Dataset réduit à {len(dataset['train'])} exemples d'entraînement et {len(dataset['test'])} de test.\")\n"
   ],
   "outputs": [
    {
     "name": "stderr",
     "output_type": "stream",
     "text": [
      "/opt/anaconda3/envs/projet8/lib/python3.12/site-packages/tqdm/auto.py:21: TqdmWarning: IProgress not found. Please update jupyter and ipywidgets. See https://ipywidgets.readthedocs.io/en/stable/user_install.html\n",
      "  from .autonotebook import tqdm as notebook_tqdm\n",
      "/opt/anaconda3/envs/projet8/lib/python3.12/site-packages/torchvision/io/image.py:14: UserWarning: Failed to load image Python extension: 'dlopen(/opt/anaconda3/envs/projet8/lib/python3.12/site-packages/torchvision/image.so, 0x0006): Library not loaded: @rpath/libjpeg.9.dylib\n",
      "  Referenced from: <367D4265-B20F-34BD-94EB-4F3EE47C385B> /opt/anaconda3/envs/projet8/lib/python3.12/site-packages/torchvision/image.so\n",
      "  Reason: tried: '/opt/anaconda3/envs/projet8/lib/python3.12/site-packages/torchvision/../../../libjpeg.9.dylib' (no such file), '/opt/anaconda3/envs/projet8/lib/python3.12/site-packages/torchvision/../../../libjpeg.9.dylib' (no such file), '/opt/anaconda3/envs/projet8/lib/python3.12/lib-dynload/../../libjpeg.9.dylib' (no such file), '/opt/anaconda3/envs/projet8/bin/../lib/libjpeg.9.dylib' (no such file)'If you don't plan on using image functionality from `torchvision.io`, you can ignore this warning. Otherwise, there might be something wrong with your environment. Did you have `libjpeg` or `libpng` installed before building `torchvision` from source?\n",
      "  warn(\n"
     ]
    },
    {
     "name": "stdout",
     "output_type": "stream",
     "text": [
      "1. Chargement du jeu de données IMDB...\n",
      "Dataset chargé. Structure : DatasetDict({\n",
      "    train: Dataset({\n",
      "        features: ['text', 'label'],\n",
      "        num_rows: 25000\n",
      "    })\n",
      "    test: Dataset({\n",
      "        features: ['text', 'label'],\n",
      "        num_rows: 25000\n",
      "    })\n",
      "    unsupervised: Dataset({\n",
      "        features: ['text', 'label'],\n",
      "        num_rows: 50000\n",
      "    })\n",
      "})\n",
      "Exemple de données d'entraînement : {'text': 'I rented I AM CURIOUS-YELLOW from my video store because of all the controversy that surrounded it when it was first released in 1967. I also heard that at first it was seized by U.S. customs if it ever tried to enter this country, therefore being a fan of films considered \"controversial\" I really had to see this for myself.<br /><br />The plot is centered around a young Swedish drama student named Lena who wants to learn everything she can about life. In particular she wants to focus her attentions to making some sort of documentary on what the average Swede thought about certain political issues such as the Vietnam War and race issues in the United States. In between asking politicians and ordinary denizens of Stockholm about their opinions on politics, she has sex with her drama teacher, classmates, and married men.<br /><br />What kills me about I AM CURIOUS-YELLOW is that 40 years ago, this was considered pornographic. Really, the sex and nudity scenes are few and far between, even then it\\'s not shot like some cheaply made porno. While my countrymen mind find it shocking, in reality sex and nudity are a major staple in Swedish cinema. Even Ingmar Bergman, arguably their answer to good old boy John Ford, had sex scenes in his films.<br /><br />I do commend the filmmakers for the fact that any sex shown in the film is shown for artistic purposes rather than just to shock people and make money to be shown in pornographic theaters in America. I AM CURIOUS-YELLOW is a good film for anyone wanting to study the meat and potatoes (no pun intended) of Swedish cinema. But really, this film doesn\\'t have much of a plot.', 'label': 0}\n",
      "Dataset réduit à 5000 exemples d'entraînement et 1000 de test.\n"
     ]
    }
   ],
   "execution_count": 1
  },
  {
   "metadata": {
    "ExecuteTime": {
     "end_time": "2025-07-03T09:16:30.917240Z",
     "start_time": "2025-07-03T09:16:30.153786Z"
    }
   },
   "cell_type": "code",
   "source": [
    "# 2. Prétraitement des données avec un Tokenizer de Transformer\n",
    "print(\"\\n2. Prétraitement des données (tokenization)...\")\n",
    "# Chargement du tokenizer pour DistilBERT (un modèle léger et rapide)\n",
    "tokenizer = AutoTokenizer.from_pretrained(\"distilbert-base-uncased\")\n",
    "\n",
    "def tokenize_function(examples):\n",
    "    # Applique la tokenization et le padding/truncation\n",
    "    return tokenizer(examples[\"text\"], padding=\"max_length\", truncation=True)\n",
    "\n",
    "# Appliquer la fonction de tokenization à l'ensemble du dataset\n",
    "tokenized_dataset = dataset.map(tokenize_function, batched=True)\n",
    "print(\"Tokenization terminée.\")\n",
    "\n",
    "# Définition de la classe pour les labels\n",
    "# Dans IMDB, 0 est négatif, 1 est positif\n",
    "num_labels = 2\n",
    "id2label = {0: \"NEGATIVE\", 1: \"POSITIVE\"}\n",
    "label2id = {\"NEGATIVE\": 0, \"POSITIVE\": 1}\n",
    "\n",
    "# 3. Fine-tuning du modèle Transformer\n",
    "print(\"\\n3. Fine-tuning du modèle DistilBERT...\")\n",
    "# Chargement du modèle pré-entraîné pour la classification de séquences\n",
    "model = AutoModelForSequenceClassification.from_pretrained(\n",
    "    \"distilbert-base-uncased\", num_labels=num_labels, id2label=id2label, label2id=label2id\n",
    ")\n",
    "\n",
    "# Définition des arguments d'entraînement\n",
    "# Ces paramètres sont optimisés pour la rapidité du PoC\n",
    "training_args = TrainingArguments(\n",
    "    output_dir=\"./results\",               # Répertoire pour sauvegarder les modèles et résultats\n",
    "    eval_strategy=\"epoch\",          # Évaluer à chaque fin d'epoch\n",
    "    learning_rate=2e-5,                   # Taux d'apprentissage\n",
    "    per_device_train_batch_size=8,        # Taille du batch par GPU/CPU pour l'entraînement\n",
    "    per_device_eval_batch_size=8,         # Taille du batch par GPU/CPU pour l'évaluation\n",
    "    num_train_epochs=3,                   # Nombre d'epochs (généralement 3-5 est suffisant pour le fine-tuning)\n",
    "    weight_decay=0.01,                    # Décroissance du poids (régularisation)\n",
    "    logging_dir='./logs',                 # Répertoire pour les logs (TensorBoard)\n",
    "    logging_steps=100,                    # Fréquence de log\n",
    "    save_strategy=\"epoch\",                # Sauvegarder à chaque fin d'epoch\n",
    "    load_best_model_at_end=True,          # Charger le meilleur modèle à la fin\n",
    "    metric_for_best_model=\"accuracy\",     # Mettre en œuvre le meilleur modèle en fonction de la précision\n",
    "    report_to=\"none\"                      # Désactiver les intégrations de rapport\n",
    ")"
   ],
   "id": "5d6c0d15c8a69f06",
   "outputs": [
    {
     "name": "stdout",
     "output_type": "stream",
     "text": [
      "\n",
      "2. Prétraitement des données (tokenization)...\n",
      "Tokenization terminée.\n",
      "\n",
      "3. Fine-tuning du modèle DistilBERT...\n"
     ]
    },
    {
     "name": "stderr",
     "output_type": "stream",
     "text": [
      "Some weights of DistilBertForSequenceClassification were not initialized from the model checkpoint at distilbert-base-uncased and are newly initialized: ['classifier.bias', 'classifier.weight', 'pre_classifier.bias', 'pre_classifier.weight']\n",
      "You should probably TRAIN this model on a down-stream task to be able to use it for predictions and inference.\n"
     ]
    }
   ],
   "execution_count": 2
  },
  {
   "metadata": {
    "ExecuteTime": {
     "end_time": "2025-07-03T09:19:59.888001Z",
     "start_time": "2025-07-03T09:19:59.067173Z"
    }
   },
   "cell_type": "code",
   "source": [
    "# Définition de la métrique d'évaluation (Accuracy)\n",
    "metric = evaluate.load(\"accuracy\")\n",
    "\n",
    "def compute_metrics(eval_pred):\n",
    "    logits, labels = eval_pred\n",
    "    predictions = np.argmax(logits, axis=-1)\n",
    "    return metric.compute(predictions=predictions, references=labels)"
   ],
   "id": "752fa77a497240f2",
   "outputs": [],
   "execution_count": 4
  },
  {
   "metadata": {
    "ExecuteTime": {
     "end_time": "2025-07-03T09:20:02.596203Z",
     "start_time": "2025-07-03T09:20:02.259822Z"
    }
   },
   "cell_type": "code",
   "source": [
    "# Création de l'objet Trainer\n",
    "trainer = Trainer(\n",
    "    model=model,\n",
    "    args=training_args,\n",
    "    train_dataset=tokenized_dataset[\"train\"],\n",
    "    eval_dataset=tokenized_dataset[\"test\"],\n",
    "    tokenizer=tokenizer,\n",
    "    compute_metrics=compute_metrics,\n",
    ")"
   ],
   "id": "6c40465978f1a646",
   "outputs": [
    {
     "name": "stderr",
     "output_type": "stream",
     "text": [
      "/var/folders/fk/s_s6rm0x0216j6tz5mvl3tpm0000gp/T/ipykernel_2175/1169984745.py:2: FutureWarning: `tokenizer` is deprecated and will be removed in version 5.0.0 for `Trainer.__init__`. Use `processing_class` instead.\n",
      "  trainer = Trainer(\n"
     ]
    }
   ],
   "execution_count": 5
  },
  {
   "metadata": {
    "ExecuteTime": {
     "end_time": "2025-07-03T09:38:49.167494Z",
     "start_time": "2025-07-03T09:20:03.693289Z"
    }
   },
   "cell_type": "code",
   "source": [
    "# Lancement de l'entraînement\n",
    "trainer.train()\n",
    "print(\"\\nFine-tuning terminé.\")"
   ],
   "id": "f5ffe3491c0eca81",
   "outputs": [
    {
     "data": {
      "text/plain": [
       "<IPython.core.display.HTML object>"
      ],
      "text/html": [
       "\n",
       "    <div>\n",
       "      \n",
       "      <progress value='1875' max='1875' style='width:300px; height:20px; vertical-align: middle;'></progress>\n",
       "      [1875/1875 18:40, Epoch 3/3]\n",
       "    </div>\n",
       "    <table border=\"1\" class=\"dataframe\">\n",
       "  <thead>\n",
       " <tr style=\"text-align: left;\">\n",
       "      <th>Epoch</th>\n",
       "      <th>Training Loss</th>\n",
       "      <th>Validation Loss</th>\n",
       "      <th>Accuracy</th>\n",
       "    </tr>\n",
       "  </thead>\n",
       "  <tbody>\n",
       "    <tr>\n",
       "      <td>1</td>\n",
       "      <td>0.342100</td>\n",
       "      <td>0.334177</td>\n",
       "      <td>0.894000</td>\n",
       "    </tr>\n",
       "    <tr>\n",
       "      <td>2</td>\n",
       "      <td>0.201500</td>\n",
       "      <td>0.367176</td>\n",
       "      <td>0.902000</td>\n",
       "    </tr>\n",
       "    <tr>\n",
       "      <td>3</td>\n",
       "      <td>0.088600</td>\n",
       "      <td>0.436976</td>\n",
       "      <td>0.901000</td>\n",
       "    </tr>\n",
       "  </tbody>\n",
       "</table><p>"
      ]
     },
     "metadata": {},
     "output_type": "display_data"
    },
    {
     "name": "stdout",
     "output_type": "stream",
     "text": [
      "\n",
      "Fine-tuning terminé.\n"
     ]
    }
   ],
   "execution_count": 6
  },
  {
   "metadata": {
    "ExecuteTime": {
     "end_time": "2025-07-03T09:39:12.548720Z",
     "start_time": "2025-07-03T09:38:49.201055Z"
    }
   },
   "cell_type": "code",
   "source": [
    "# 4. Évaluation du modèle fine-tuné\n",
    "print(\"\\n4. Évaluation du modèle fine-tuné...\")\n",
    "results = trainer.evaluate()\n",
    "print(f\"Résultats de l'évaluation : {results}\")"
   ],
   "id": "b6a06df0c74cd995",
   "outputs": [
    {
     "name": "stdout",
     "output_type": "stream",
     "text": [
      "\n",
      "4. Évaluation du modèle fine-tuné...\n"
     ]
    },
    {
     "data": {
      "text/plain": [
       "<IPython.core.display.HTML object>"
      ],
      "text/html": [
       "\n",
       "    <div>\n",
       "      \n",
       "      <progress value='125' max='125' style='width:300px; height:20px; vertical-align: middle;'></progress>\n",
       "      [125/125 00:23]\n",
       "    </div>\n",
       "    "
      ]
     },
     "metadata": {},
     "output_type": "display_data"
    },
    {
     "name": "stdout",
     "output_type": "stream",
     "text": [
      "Résultats de l'évaluation : {'eval_loss': 0.3671758472919464, 'eval_accuracy': 0.902, 'eval_runtime': 23.3431, 'eval_samples_per_second': 42.839, 'eval_steps_per_second': 5.355, 'epoch': 3.0}\n"
     ]
    }
   ],
   "execution_count": 7
  },
  {
   "metadata": {
    "ExecuteTime": {
     "end_time": "2025-07-03T09:39:12.561438Z",
     "start_time": "2025-07-03T09:39:12.554955Z"
    }
   },
   "cell_type": "code",
   "source": [
    "# 5. Tester une prédiction simple\n",
    "print(\"\\n5. Test de prédiction sur une nouvelle phrase :\")\n",
    "text_example_positive = \"This movie was absolutely fantastic! I loved every minute of it.\"\n",
    "text_example_negative = \"This was the worst movie I have ever seen. Completely boring.\"\n",
    "\n",
    "inputs_pos = tokenizer(text_example_positive, return_tensors=\"pt\", padding=True, truncation=True)\n",
    "inputs_neg = tokenizer(text_example_negative, return_tensors=\"pt\", padding=True, truncation=True)"
   ],
   "id": "1848b0eedf0b9ac2",
   "outputs": [
    {
     "name": "stdout",
     "output_type": "stream",
     "text": [
      "\n",
      "5. Test de prédiction sur une nouvelle phrase :\n"
     ]
    }
   ],
   "execution_count": 8
  },
  {
   "metadata": {
    "ExecuteTime": {
     "end_time": "2025-07-03T09:39:12.691169Z",
     "start_time": "2025-07-03T09:39:12.573919Z"
    }
   },
   "cell_type": "code",
   "source": [
    "# Déplacer les inputs vers le même device que le modèle\n",
    "device = torch.device(\"cuda\" if torch.cuda.is_available() else \"cpu\")\n",
    "model.to(device)\n",
    "inputs_pos = {k: v.to(device) for k, v in inputs_pos.items()}\n",
    "inputs_neg = {k: v.to(device) for k, v in inputs_neg.items()}\n",
    "\n",
    "\n",
    "with torch.no_grad():\n",
    "    logits_pos = model(**inputs_pos).logits\n",
    "    logits_neg = model(**inputs_neg).logits\n",
    "\n",
    "predicted_class_id_pos = torch.argmax(logits_pos).item()\n",
    "predicted_class_id_neg = torch.argmax(logits_neg).item()\n",
    "\n",
    "print(f\"Phrase: \\\"{text_example_positive}\\\" -> Prédiction: {model.config.id2label[predicted_class_id_pos]}\")\n",
    "print(f\"Phrase: \\\"{text_example_negative}\\\" -> Prédiction: {model.config.id2label[predicted_class_id_neg]}\")"
   ],
   "id": "cb656d14c42aa35d",
   "outputs": [
    {
     "name": "stdout",
     "output_type": "stream",
     "text": [
      "Phrase: \"This movie was absolutely fantastic! I loved every minute of it.\" -> Prédiction: POSITIVE\n",
      "Phrase: \"This was the worst movie I have ever seen. Completely boring.\" -> Prédiction: NEGATIVE\n"
     ]
    }
   ],
   "execution_count": 9
  },
  {
   "metadata": {
    "collapsed": true,
    "ExecuteTime": {
     "end_time": "2025-07-03T09:53:01.106115Z",
     "start_time": "2025-07-03T09:53:01.099188Z"
    }
   },
   "cell_type": "code",
   "source": [
    "# si besoin de save le model\n",
    "# model.save_pretrained(\"./my_sentiment_model\")\n",
    "# tokenizer.save_pretrained(\"./my_sentiment_model\")\n",
    "\n",
    "print(\"\\nPreuve de concept terminée.\")\n",
    "#TODO est-ce necessaire de comparer la technique utilisée avec un autre ?"
   ],
   "id": "initial_id",
   "outputs": [
    {
     "name": "stdout",
     "output_type": "stream",
     "text": [
      "\n",
      "Preuve de concept terminée.\n"
     ]
    }
   ],
   "execution_count": 11
  },
  {
   "metadata": {},
   "cell_type": "code",
   "outputs": [],
   "execution_count": null,
   "source": "",
   "id": "67989359d3a02487"
  }
 ],
 "metadata": {
  "kernelspec": {
   "display_name": "Python 3",
   "language": "python",
   "name": "python3"
  },
  "language_info": {
   "codemirror_mode": {
    "name": "ipython",
    "version": 2
   },
   "file_extension": ".py",
   "mimetype": "text/x-python",
   "name": "python",
   "nbconvert_exporter": "python",
   "pygments_lexer": "ipython2",
   "version": "2.7.6"
  }
 },
 "nbformat": 4,
 "nbformat_minor": 5
}
